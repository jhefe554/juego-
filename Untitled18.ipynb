{
  "nbformat": 4,
  "nbformat_minor": 0,
  "metadata": {
    "colab": {
      "provenance": [],
      "authorship_tag": "ABX9TyOZI2lhktwuynToMiPNNmHQ",
      "include_colab_link": true
    },
    "kernelspec": {
      "name": "python3",
      "display_name": "Python 3"
    },
    "language_info": {
      "name": "python"
    }
  },
  "cells": [
    {
      "cell_type": "markdown",
      "metadata": {
        "id": "view-in-github",
        "colab_type": "text"
      },
      "source": [
        "<a href=\"https://colab.research.google.com/github/jhefe554/juego-/blob/main/Untitled18.ipynb\" target=\"_parent\"><img src=\"https://colab.research.google.com/assets/colab-badge.svg\" alt=\"Open In Colab\"/></a>"
      ]
    },
    {
      "cell_type": "code",
      "execution_count": 3,
      "metadata": {
        "colab": {
          "base_uri": "https://localhost:8080/"
        },
        "id": "3jtaCzWXI-uX",
        "outputId": "ce9c303d-5405-4957-8f20-38528eb6fa7f"
      },
      "outputs": [
        {
          "output_type": "stream",
          "name": "stdout",
          "text": [
            "El promedio de calorías de la competencia es: 106.88311688311688\n",
            "Datos organizados: [ 50.  50.  50.  70.  70.  80.  90.  90.  90.  90.  90.  90.  90. 100.\n",
            " 100. 100. 100. 100. 100. 100. 100. 100. 100. 100. 100. 100. 100. 100.\n",
            " 100. 100. 110. 110. 110. 110. 110. 110. 110. 110. 110. 110. 110. 110.\n",
            " 110. 110. 110. 110. 110. 110. 110. 110. 110. 110. 110. 110. 110. 110.\n",
            " 110. 110. 110. 120. 120. 120. 120. 120. 120. 120. 120. 120. 120. 130.\n",
            " 130. 140. 140. 140. 150. 150. 160.]\n",
            "La mediana de las calorías es: 110.0\n",
            "El primer percentil mayor a 60 calorías es: 70.0\n",
            "El porcentaje de cereales con más de 60 calorías es: 96.1038961038961\n",
            "La desviación estándar de las calorías es: 19.35718533390827\n"
          ]
        }
      ],
      "source": [
        "import numpy as np\n",
        "\n",
        "# Cargar datos del archivo\n",
        "calorie_stats = np.genfromtxt('cereal.csv', delimiter=',')\n",
        "\n",
        "# Promedio de calorías de la competencia\n",
        "average_calories = np.mean(calorie_stats)\n",
        "print(\"El promedio de calorías de la competencia es:\", average_calories)\n",
        "\n",
        "# Organizar los datos\n",
        "calorie_stats = np.sort(calorie_stats)\n",
        "print(\"Datos organizados:\", calorie_stats)\n",
        "\n",
        "# Mediana\n",
        "median_calories = np.median(calorie_stats)\n",
        "print(\"La mediana de las calorías es:\", median_calories)\n",
        "\n",
        "# Percentiles\n",
        "percentiles = np.percentile(calorie_stats, range(101))\n",
        "nth_percentile = next(x for x in percentiles if x > 60)\n",
        "print(\"El primer percentil mayor a 60 calorías es:\", nth_percentile)\n",
        "\n",
        "# Porcentaje de cereales con más de 60 calorías\n",
        "more_calories = np.sum(calorie_stats > 60) / len(calorie_stats) * 100\n",
        "print(\"El porcentaje de cereales con más de 60 calorías es:\", more_calories)\n",
        "\n",
        "# Desviación estándar\n",
        "calorie_std = np.std(calorie_stats)\n",
        "print(\"La desviación estándar de las calorías es:\", calorie_std)"
      ]
    },
    {
      "cell_type": "markdown",
      "source": [
        "trabajo hecho por Jheferson Navas (jheferson.navas@upb.edu.co)"
      ],
      "metadata": {
        "id": "ac0PwgNUN7pW"
      }
    }
  ]
}